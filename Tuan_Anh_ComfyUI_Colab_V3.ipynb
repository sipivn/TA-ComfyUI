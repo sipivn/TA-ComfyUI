{
  "cells": [
    {
      "cell_type": "code",
      "execution_count": null,
      "metadata": {
        "cellView": "form",
        "id": "teNvgk-AY1cw"
      },
      "outputs": [],
      "source": [
        "#@title # ⚙️ 1.Cấu hình cài đặt ComfyUI\n",
        "\n",
        "USE_GOOGLE_DRIVE = False  #@param {type:\"boolean\"}\n",
        "UPDATE_COMFY_UI = True  #@param {type:\"boolean\"}\n",
        "\n",
        "CONFIG_DIR = '/content/TAConfig'\n",
        "\n",
        "!git clone https://github.com/sipivn/TA-ComfyUI {CONFIG_DIR} > /dev/null 2>&1 && echo \"✅ Clone thành công vào: {CONFIG_DIR}\" || echo \"❌ Lỗi khi clone repository\"\n",
        "\n",
        "%run /content/TAConfig/Tuan_Anh_ComfyUI_Colab_Script.ipynb"
      ]
    },
    {
      "cell_type": "code",
      "execution_count": null,
      "metadata": {
        "cellView": "form",
        "id": "RUcFKSQNt-E2"
      },
      "outputs": [],
      "source": [
        "#@title # ⚙️ 2. Chạy ComfyUI bằng TunnelTo (Khuyên dùng)\n",
        "run_comfyui_tunnelto()"
      ]
    },
    {
      "cell_type": "code",
      "execution_count": null,
      "metadata": {
        "cellView": "form",
        "id": "Szc6twQFxxTo"
      },
      "outputs": [],
      "source": [
        "#@title # ⚙️ 3. Chạy ComfyUI bằng CloudFlare\n",
        "run_comfyui_cloudflare()"
      ]
    },
    {
      "cell_type": "markdown",
      "metadata": {
        "id": "6yg0iXqgOr9J"
      },
      "source": [
        "# 🚀 Cài đặt nâng cao"
      ]
    },
    {
      "cell_type": "code",
      "execution_count": null,
      "metadata": {
        "cellView": "form",
        "id": "MPDCYRLdOxDo"
      },
      "outputs": [],
      "source": [
        "#@title ⚡️ Download File\n",
        "\n",
        "#@markdown\n",
        "\n",
        "#ComfyUI Note\n",
        "Download =False #@param {type:\"boolean\"}\n",
        "Link = \"https://huggingface.co/comfyanonymous/flux_text_encoders/resolve/main/clip_l.safetensors\" #@param {type:\"string\"}\n",
        "Name = \"clip_l.safetensors\" #@param {type:\"string\"}\n",
        "Path = \"/content/ComfyUI/models/clip\" #@param {type:\"string\"}\n",
        "\n",
        "if Download ==True :\n",
        "  download_file(Link, Path, Name)"
      ]
    },
    {
      "cell_type": "code",
      "execution_count": null,
      "metadata": {
        "cellView": "form",
        "id": "2xWKuskcOzRw"
      },
      "outputs": [],
      "source": [
        "#@title ⚡️ Node ComfyUI\n",
        "\n",
        "#@markdown\n",
        "\n",
        "#ComfyUI Note\n",
        "#https://github.com/TheMistoAI/ComfyUI-Anyline\n",
        "Active =False #@param {type:\"boolean\"}\n",
        "CustomNote = \"https://github.com/comfyanonymous/ComfyUI_bitsandbytes_NF4\" #@param {type:\"string\"}\n",
        "\n",
        "if Active == True :\n",
        "  install_custom_nodes_link(CustomNote)"
      ]
    }
  ],
  "metadata": {
    "accelerator": "GPU",
    "colab": {
      "gpuType": "T4",
      "provenance": []
    },
    "kernelspec": {
      "display_name": "Python 3",
      "name": "python3"
    },
    "language_info": {
      "name": "python"
    }
  },
  "nbformat": 4,
  "nbformat_minor": 0
}
